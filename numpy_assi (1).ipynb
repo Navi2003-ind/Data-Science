{
  "nbformat": 4,
  "nbformat_minor": 0,
  "metadata": {
    "colab": {
      "provenance": []
    },
    "kernelspec": {
      "name": "python3",
      "display_name": "Python 3"
    },
    "language_info": {
      "name": "python"
    }
  },
  "cells": [
    {
      "cell_type": "markdown",
      "source": [],
      "metadata": {
        "id": "NJBMjKnSTGjw"
      }
    },
    {
      "cell_type": "markdown",
      "source": [
        "**Theoretical Questions:**\n",
        "Q1:\n",
        "Ans: NumPy is a python libeary for numeric computations and data manipulation in scientific computing and data analysis as it provides multidimesional array, random number generantion, data manipulation.. NumPy is faster due to its implementation in C, it's memory efficiency, and it is easy to use.\n",
        "\n",
        "\n",
        "Q2:\n",
        "Ans:\n",
        "np.mean()\n",
        "  it is used to calculate arithmetic mean of a array, but doesn't compute weighted averages\n",
        "np.average()\n",
        "  it is also used to calculate arithmetic mean but the weighted averages can also be computed.\n",
        "\n",
        "  we use np.mean() when we need a simple arithmetic mean without any weights\n",
        "\n",
        "  but we use np.average() when wen need to calculate weighted average\n",
        "\n",
        "\n",
        "Q3:\n",
        "Ans:\n",
        "Reversing NumPy arrays:\n",
        " 1. using slicing\n",
        " 2. using np.flip()\n",
        "\n",
        "\n",
        "Q4:\n",
        "Ans:\n",
        "We can determine the data type of elements in a NumPy array by using dtpye attribute ( arr.dtype)\n",
        "Importance:\n",
        " 1. Determines the size of each element in bytes.\n",
        " 2. Using datatype can improve performance.\n",
        "\n",
        "\n",
        " Q5:\n",
        " ndarrays are the fundamental data structures in NumPy, they represent multidimensional arrays of homogeneous data types.\n",
        " Diiference b|w ndarrays and python list:\n",
        " 1. these are homogenous and lists are hetrogenous\n",
        " 2. used for fast numerical computations and lists are slower for numerical computations.\n",
        "\n",
        "\n",
        " Q6:\n",
        " Ans:\n",
        " NumPy arrays are more significant then python lists for when dealing with large scale numerical opperations.\n",
        "\n",
        " Q7:\n",
        " Ans:\n",
        "1. vstack()\n",
        "    stacks arrays in row wise sequence.\n",
        "2. hstack()\n",
        "    Stacks arrays in colimn wise sequence\n",
        "\n",
        "\n",
        " Q8:\n",
        " Ans:\n",
        " flipr()\n",
        "  filps the array horizontally\n",
        "\n",
        " flipud()\n",
        "  flips the array verically\n",
        "\n",
        "\n",
        "  Q9:\n",
        "  Ans:\n",
        "  array_split()\n",
        "   1. splits the array into multiple subarrays .\n",
        "   2. Handles uneven splits gracefully.\n",
        "\n",
        "   for uneven splits the extra elemets are distributed to the initial sub array\n",
        "\n",
        "\n",
        "  Q10:\n",
        "  Ans:\n",
        "  Vectorizations:\n",
        "   Vectorization is the process of performing operations on entire arrays without explicit loops.\n",
        "\n",
        "  Broadcasting:\n",
        "   Broadcasting is NumPy's mechanism for performing operations on arrays of different shapes.\n",
        "\n",
        "\n"
      ],
      "metadata": {
        "id": "0VugVN1J2Jbf"
      }
    },
    {
      "cell_type": "code",
      "source": [
        "# Practical Questions:\n",
        "#1\n",
        "import numpy as np\n",
        "arr = np.random.randint(1, 101, size = (3, 3))\n",
        "arr.T #(to interchange rows and columns)"
      ],
      "metadata": {
        "colab": {
          "base_uri": "https://localhost:8080/"
        },
        "id": "hGF1O6TY5ser",
        "outputId": "3c170b05-d017-4e70-d72a-819fcf5486ec"
      },
      "execution_count": 2,
      "outputs": [
        {
          "output_type": "execute_result",
          "data": {
            "text/plain": [
              "array([[22, 33,  2],\n",
              "       [32, 11, 94],\n",
              "       [35, 88, 82]])"
            ]
          },
          "metadata": {},
          "execution_count": 2
        }
      ]
    },
    {
      "cell_type": "code",
      "source": [
        "#2:\n",
        "arr = np.arange(10)\n",
        "arr2 = arr.reshape(2,5)\n",
        "arr3 = arr.reshape(5,2)"
      ],
      "metadata": {
        "id": "1DinyQEZ_SjI"
      },
      "execution_count": 3,
      "outputs": []
    },
    {
      "cell_type": "code",
      "source": [
        "arr\n"
      ],
      "metadata": {
        "colab": {
          "base_uri": "https://localhost:8080/"
        },
        "id": "eKMdXgam_3rK",
        "outputId": "073cdd2d-c863-4fd4-cb6c-50cabfb51dc1"
      },
      "execution_count": 4,
      "outputs": [
        {
          "output_type": "execute_result",
          "data": {
            "text/plain": [
              "array([0, 1, 2, 3, 4, 5, 6, 7, 8, 9])"
            ]
          },
          "metadata": {},
          "execution_count": 4
        }
      ]
    },
    {
      "cell_type": "code",
      "source": [
        "arr2"
      ],
      "metadata": {
        "colab": {
          "base_uri": "https://localhost:8080/"
        },
        "id": "Lc9VGS4D_51E",
        "outputId": "d8b101e3-8cf7-4533-a405-33686d37543c"
      },
      "execution_count": 5,
      "outputs": [
        {
          "output_type": "execute_result",
          "data": {
            "text/plain": [
              "array([[0, 1, 2, 3, 4],\n",
              "       [5, 6, 7, 8, 9]])"
            ]
          },
          "metadata": {},
          "execution_count": 5
        }
      ]
    },
    {
      "cell_type": "code",
      "source": [
        "arr3"
      ],
      "metadata": {
        "colab": {
          "base_uri": "https://localhost:8080/"
        },
        "id": "pqJkMecT__i8",
        "outputId": "e531b9ae-46f9-47d5-9654-a021fecb2566"
      },
      "execution_count": 6,
      "outputs": [
        {
          "output_type": "execute_result",
          "data": {
            "text/plain": [
              "array([[0, 1],\n",
              "       [2, 3],\n",
              "       [4, 5],\n",
              "       [6, 7],\n",
              "       [8, 9]])"
            ]
          },
          "metadata": {},
          "execution_count": 6
        }
      ]
    },
    {
      "cell_type": "code",
      "source": [
        "#3:\n",
        "arr = np.random.randn(4, 4)\n",
        "arr"
      ],
      "metadata": {
        "colab": {
          "base_uri": "https://localhost:8080/"
        },
        "id": "pPUh0oVzAAAx",
        "outputId": "fe1d8b85-f713-4b6d-cef6-c798f30f9ca8"
      },
      "execution_count": 7,
      "outputs": [
        {
          "output_type": "execute_result",
          "data": {
            "text/plain": [
              "array([[-0.07755243,  0.31817804, -1.58618108,  2.58902693],\n",
              "       [-0.20628993, -0.39926306, -0.95648926, -1.02024951],\n",
              "       [ 1.31893705, -0.42862561,  0.15356882,  1.53001812],\n",
              "       [ 1.70776474,  0.62242105, -0.44081627, -1.06242754]])"
            ]
          },
          "metadata": {},
          "execution_count": 7
        }
      ]
    },
    {
      "cell_type": "code",
      "source": [
        "#4:\n",
        "arr = np.arange(10, 61, 5)\n",
        "arr"
      ],
      "metadata": {
        "colab": {
          "base_uri": "https://localhost:8080/"
        },
        "id": "Pij0NFJuAQz1",
        "outputId": "78eae1d1-eed3-4c71-f2c3-f1983b412855"
      },
      "execution_count": 8,
      "outputs": [
        {
          "output_type": "execute_result",
          "data": {
            "text/plain": [
              "array([10, 15, 20, 25, 30, 35, 40, 45, 50, 55, 60])"
            ]
          },
          "metadata": {},
          "execution_count": 8
        }
      ]
    },
    {
      "cell_type": "code",
      "source": [
        "arr = np.array(['python', 'numpy', 'pandas'])\n",
        "arr1 = np.char.upper(arr)"
      ],
      "metadata": {
        "id": "zj_ZaHRuAw6g"
      },
      "execution_count": 9,
      "outputs": []
    },
    {
      "cell_type": "code",
      "source": [
        "arr1"
      ],
      "metadata": {
        "colab": {
          "base_uri": "https://localhost:8080/"
        },
        "id": "slj2LfMRBoRh",
        "outputId": "a3304647-5af5-48b2-f695-824ddde40c0e"
      },
      "execution_count": 10,
      "outputs": [
        {
          "output_type": "execute_result",
          "data": {
            "text/plain": [
              "array(['PYTHON', 'NUMPY', 'PANDAS'], dtype='<U6')"
            ]
          },
          "metadata": {},
          "execution_count": 10
        }
      ]
    },
    {
      "cell_type": "code",
      "source": [
        "arr2 = np.char.lower(arr)"
      ],
      "metadata": {
        "id": "ulazcpXHDXv4"
      },
      "execution_count": 11,
      "outputs": []
    },
    {
      "cell_type": "code",
      "source": [
        "arr2"
      ],
      "metadata": {
        "colab": {
          "base_uri": "https://localhost:8080/"
        },
        "id": "OAJh6TbfDcdS",
        "outputId": "d05a3021-f9af-41f2-b554-453a8e4d35a2"
      },
      "execution_count": 12,
      "outputs": [
        {
          "output_type": "execute_result",
          "data": {
            "text/plain": [
              "array(['python', 'numpy', 'pandas'], dtype='<U6')"
            ]
          },
          "metadata": {},
          "execution_count": 12
        }
      ]
    },
    {
      "cell_type": "code",
      "source": [
        "arr3 = np.char.title(arr)"
      ],
      "metadata": {
        "id": "vfDbHfnNDfNf"
      },
      "execution_count": 13,
      "outputs": []
    },
    {
      "cell_type": "code",
      "source": [
        "arr3"
      ],
      "metadata": {
        "colab": {
          "base_uri": "https://localhost:8080/"
        },
        "id": "DaW9uKHVDkUP",
        "outputId": "a6a2f3ae-c08b-4cbb-8ad4-b3e233d1c861"
      },
      "execution_count": 14,
      "outputs": [
        {
          "output_type": "execute_result",
          "data": {
            "text/plain": [
              "array(['Python', 'Numpy', 'Pandas'], dtype='<U6')"
            ]
          },
          "metadata": {},
          "execution_count": 14
        }
      ]
    },
    {
      "cell_type": "code",
      "source": [
        "#6:\n",
        "arr = np.array(['hello', 'my', 'name', 'is', 'navdeep'])\n",
        "arr1 = np.char.join('', arr)"
      ],
      "metadata": {
        "id": "uQ8sCQTjDoZ6"
      },
      "execution_count": 15,
      "outputs": []
    },
    {
      "cell_type": "code",
      "source": [
        "arr1"
      ],
      "metadata": {
        "colab": {
          "base_uri": "https://localhost:8080/"
        },
        "id": "V-7fINVqELXM",
        "outputId": "c906542a-857f-4db8-be7d-332ba881d25d"
      },
      "execution_count": 16,
      "outputs": [
        {
          "output_type": "execute_result",
          "data": {
            "text/plain": [
              "array(['hello', 'my', 'name', 'is', 'navdeep'], dtype='<U7')"
            ]
          },
          "metadata": {},
          "execution_count": 16
        }
      ]
    },
    {
      "cell_type": "code",
      "source": [
        "arr1 = np.random.randint(1, 5, size = (2, 3))\n",
        "arr2 = np.random.randint(1, 5, size = (2, 3))"
      ],
      "metadata": {
        "id": "2oSo6mPfEPUz"
      },
      "execution_count": 17,
      "outputs": []
    },
    {
      "cell_type": "markdown",
      "source": [],
      "metadata": {
        "id": "CMhE3lDmEjVc"
      }
    },
    {
      "cell_type": "code",
      "source": [
        "arr1"
      ],
      "metadata": {
        "colab": {
          "base_uri": "https://localhost:8080/"
        },
        "id": "3lLqn7NRF6rS",
        "outputId": "d81c55ea-3eb7-405d-96db-50adeb4b242b"
      },
      "execution_count": 18,
      "outputs": [
        {
          "output_type": "execute_result",
          "data": {
            "text/plain": [
              "array([[1, 2, 2],\n",
              "       [3, 2, 2]])"
            ]
          },
          "metadata": {},
          "execution_count": 18
        }
      ]
    },
    {
      "cell_type": "code",
      "source": [
        "arr2"
      ],
      "metadata": {
        "colab": {
          "base_uri": "https://localhost:8080/"
        },
        "id": "QjM3SlCwF7Ow",
        "outputId": "d19bb7ad-4011-4e21-a4ae-3d9865f0cf92"
      },
      "execution_count": 19,
      "outputs": [
        {
          "output_type": "execute_result",
          "data": {
            "text/plain": [
              "array([[1, 3, 1],\n",
              "       [4, 3, 2]])"
            ]
          },
          "metadata": {},
          "execution_count": 19
        }
      ]
    },
    {
      "cell_type": "code",
      "source": [
        "#addition:\n",
        "arrA = arr1 + arr2\n",
        "arrA"
      ],
      "metadata": {
        "colab": {
          "base_uri": "https://localhost:8080/"
        },
        "id": "5AFZwrqtF7ow",
        "outputId": "2fd3ebc8-0f12-449b-9a15-081fe5674197"
      },
      "execution_count": 20,
      "outputs": [
        {
          "output_type": "execute_result",
          "data": {
            "text/plain": [
              "array([[2, 5, 3],\n",
              "       [7, 5, 4]])"
            ]
          },
          "metadata": {},
          "execution_count": 20
        }
      ]
    },
    {
      "cell_type": "code",
      "source": [
        "arrS = arr1 - arr2\n",
        "arrS"
      ],
      "metadata": {
        "colab": {
          "base_uri": "https://localhost:8080/"
        },
        "id": "VB9viv9VGG13",
        "outputId": "768578d0-c3b6-4a94-d4f2-5c0f1047a0df"
      },
      "execution_count": 21,
      "outputs": [
        {
          "output_type": "execute_result",
          "data": {
            "text/plain": [
              "array([[ 0, -1,  1],\n",
              "       [-1, -1,  0]])"
            ]
          },
          "metadata": {},
          "execution_count": 21
        }
      ]
    },
    {
      "cell_type": "code",
      "source": [
        "arrM = arr1 * arr2\n",
        "arrM"
      ],
      "metadata": {
        "colab": {
          "base_uri": "https://localhost:8080/"
        },
        "id": "qpsPPY7qGKoX",
        "outputId": "52022b42-00af-4751-d6fb-d5008b93c1fd"
      },
      "execution_count": 22,
      "outputs": [
        {
          "output_type": "execute_result",
          "data": {
            "text/plain": [
              "array([[ 1,  6,  2],\n",
              "       [12,  6,  4]])"
            ]
          },
          "metadata": {},
          "execution_count": 22
        }
      ]
    },
    {
      "cell_type": "code",
      "source": [
        "arrD = arr1 / arr2\n",
        "arrD"
      ],
      "metadata": {
        "colab": {
          "base_uri": "https://localhost:8080/"
        },
        "id": "LIYTetyuGSKi",
        "outputId": "37bf4d1f-6e46-4fc6-b97d-732080c78cfb"
      },
      "execution_count": 23,
      "outputs": [
        {
          "output_type": "execute_result",
          "data": {
            "text/plain": [
              "array([[1.        , 0.66666667, 2.        ],\n",
              "       [0.75      , 0.66666667, 1.        ]])"
            ]
          },
          "metadata": {},
          "execution_count": 23
        }
      ]
    },
    {
      "cell_type": "code",
      "source": [
        "#8:\n",
        "arr1 = np.eye(5)\n",
        "arr1"
      ],
      "metadata": {
        "colab": {
          "base_uri": "https://localhost:8080/"
        },
        "id": "1QLuBMe4GVWm",
        "outputId": "d17b5685-117f-45c4-e756-ab009cd9ac30"
      },
      "execution_count": 24,
      "outputs": [
        {
          "output_type": "execute_result",
          "data": {
            "text/plain": [
              "array([[1., 0., 0., 0., 0.],\n",
              "       [0., 1., 0., 0., 0.],\n",
              "       [0., 0., 1., 0., 0.],\n",
              "       [0., 0., 0., 1., 0.],\n",
              "       [0., 0., 0., 0., 1.]])"
            ]
          },
          "metadata": {},
          "execution_count": 24
        }
      ]
    },
    {
      "cell_type": "code",
      "source": [
        "arrD = np.diag(arr1)\n",
        "arrD"
      ],
      "metadata": {
        "colab": {
          "base_uri": "https://localhost:8080/"
        },
        "id": "sjX4B7AmGlYC",
        "outputId": "8514369b-cc68-47a9-9a28-04fa1ce61f40"
      },
      "execution_count": 25,
      "outputs": [
        {
          "output_type": "execute_result",
          "data": {
            "text/plain": [
              "array([1., 1., 1., 1., 1.])"
            ]
          },
          "metadata": {},
          "execution_count": 25
        }
      ]
    },
    {
      "cell_type": "code",
      "source": [
        "#9:\n",
        "arr1 = np.random.randint(0, 1000, 100)\n",
        "arr1"
      ],
      "metadata": {
        "colab": {
          "base_uri": "https://localhost:8080/"
        },
        "id": "cerPA14MGr4T",
        "outputId": "eeb444c6-5ee9-44a3-d4cd-15cf2c2028f9"
      },
      "execution_count": 26,
      "outputs": [
        {
          "output_type": "execute_result",
          "data": {
            "text/plain": [
              "array([315, 519, 232, 114, 272, 826, 909, 712, 205, 788, 191, 250, 899,\n",
              "       271, 294, 410, 388, 756, 538, 712, 984, 656, 966, 986,  25, 697,\n",
              "       749, 238, 973, 586, 167, 431,   0, 560, 119,  54, 207, 631, 118,\n",
              "       300, 352, 477,  11,  88, 781, 500, 562, 783, 875, 742, 240, 140,\n",
              "        99, 160,  20, 434, 282, 739, 753, 786, 942, 107, 871, 246, 596,\n",
              "       174, 243, 614, 820, 127, 255, 299, 634, 514, 287, 772, 774, 525,\n",
              "       842, 215, 392, 191, 897, 766, 440, 688, 220, 570,  50, 868, 676,\n",
              "       839, 537, 726, 467, 537, 764, 347, 306, 662])"
            ]
          },
          "metadata": {},
          "execution_count": 26
        }
      ]
    },
    {
      "cell_type": "code",
      "source": [
        "def is_prime(num):\n",
        "  if num <= 3:\n",
        "    return True\n",
        "  if num % 2 == 0 or num % 3 == 0:\n",
        "    return False\n",
        "  i = 5\n",
        "  while i * i <= num:\n",
        "    if num%i == 0 or num % (i +2) == 0:\n",
        "      return False\n",
        "    i += 6\n",
        "    return True"
      ],
      "metadata": {
        "id": "84ExugFwHB6d"
      },
      "execution_count": 27,
      "outputs": []
    },
    {
      "cell_type": "code",
      "source": [
        "prime_numbers = arr1[np.vectorize(is_prime)(arr1)]\n",
        "prime_numbers"
      ],
      "metadata": {
        "colab": {
          "base_uri": "https://localhost:8080/"
        },
        "id": "z2B1g0KrIlgL",
        "outputId": "97692867-6b57-4404-e650-381b7b85c59c"
      },
      "execution_count": 28,
      "outputs": [
        {
          "output_type": "execute_result",
          "data": {
            "text/plain": [
              "array([191, 899, 271, 697, 167, 431,   0, 631, 781, 739, 107, 871, 127,\n",
              "       299, 191, 839, 467, 347])"
            ]
          },
          "metadata": {},
          "execution_count": 28
        }
      ]
    },
    {
      "cell_type": "code",
      "source": [
        "#10:\n",
        "daily_temperatures = np.random.randint(20, 40, size=28)\n",
        "\n",
        "weekly_temperatures = daily_temperatures.reshape(4, 7)\n",
        "\n",
        "weekly_averages = np.mean(weekly_temperatures, axis=1)\n",
        "\n",
        "print(\"Daily temperatures:\\n\", daily_temperatures)\n",
        "print(\"Weekly temperatures:\\n\", weekly_temperatures)\n",
        "print(\"Weekly averages:\", weekly_averages)\n"
      ],
      "metadata": {
        "colab": {
          "base_uri": "https://localhost:8080/"
        },
        "id": "Mu7NKy05I5Ak",
        "outputId": "e47db1f7-bca1-452f-b1ef-cd4195b8a4b7"
      },
      "execution_count": 29,
      "outputs": [
        {
          "output_type": "stream",
          "name": "stdout",
          "text": [
            "Daily temperatures:\n",
            " [37 24 35 21 29 21 27 32 38 33 26 31 28 22 33 33 34 23 22 38 20 26 25 20\n",
            " 21 21 38 39]\n",
            "Weekly temperatures:\n",
            " [[37 24 35 21 29 21 27]\n",
            " [32 38 33 26 31 28 22]\n",
            " [33 33 34 23 22 38 20]\n",
            " [26 25 20 21 21 38 39]]\n",
            "Weekly averages: [27.71428571 30.         29.         27.14285714]\n"
          ]
        }
      ]
    },
    {
      "cell_type": "code",
      "source": [],
      "metadata": {
        "id": "5F7OnWP2JOQt"
      },
      "execution_count": 29,
      "outputs": []
    },
    {
      "cell_type": "code",
      "source": [],
      "metadata": {
        "id": "CFTDqK12UcO4"
      },
      "execution_count": null,
      "outputs": []
    }
  ]
}