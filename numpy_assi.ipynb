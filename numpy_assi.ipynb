{
  "nbformat": 4,
  "nbformat_minor": 0,
  "metadata": {
    "colab": {
      "provenance": [],
      "authorship_tag": "ABX9TyPMWCHQjA/WNtniJNMrUUMF",
      "include_colab_link": true
    },
    "kernelspec": {
      "name": "python3",
      "display_name": "Python 3"
    },
    "language_info": {
      "name": "python"
    }
  },
  "cells": [
    {
      "cell_type": "markdown",
      "metadata": {
        "id": "view-in-github",
        "colab_type": "text"
      },
      "source": [
        "<a href=\"https://colab.research.google.com/github/Navi2003-ind/Data-Science/blob/main/numpy_assi.ipynb\" target=\"_parent\"><img src=\"https://colab.research.google.com/assets/colab-badge.svg\" alt=\"Open In Colab\"/></a>"
      ]
    },
    {
      "cell_type": "markdown",
      "source": [],
      "metadata": {
        "id": "NJBMjKnSTGjw"
      }
    },
    {
      "cell_type": "markdown",
      "source": [
        "**Theoretical Questions:**\n",
        "Q1:\n",
        "Ans: NumPy is a python libeary for numeric computations and data manipulation in scientific computing and data analysis as it provides multidimesional array, random number generantion, data manipulation.. NumPy is faster due to its implementation in C, it's memory efficiency, and it is easy to use.\n",
        "\n",
        "\n",
        "Q2:\n",
        "Ans:\n",
        "np.mean()\n",
        "  it is used to calculate arithmetic mean of a array, but doesn't compute weighted averages\n",
        "np.average()\n",
        "  it is also used to calculate arithmetic mean but the weighted averages can also be computed.\n",
        "\n",
        "  we use np.mean() when we need a simple arithmetic mean without any weights\n",
        "\n",
        "  but we use np.average() when wen need to calculate weighted average\n",
        "\n",
        "\n",
        "Q3:\n",
        "Ans:\n",
        "Reversing NumPy arrays:\n",
        " 1. using slicing\n",
        " 2. using np.flip()\n",
        "\n",
        "\n",
        "Q4:\n",
        "Ans:\n",
        "We can determine the data type of elements in a NumPy array by using dtpye attribute ( arr.dtype)\n",
        "Importance:\n",
        " 1. Determines the size of each element in bytes.\n",
        " 2. Using datatype can improve performance.\n",
        "\n",
        "\n",
        " Q5:\n",
        " ndarrays are the fundamental data structures in NumPy, they represent multidimensional arrays of homogeneous data types.\n",
        " Diiference b|w ndarrays and python list:\n",
        " 1. these are homogenous and lists are hetrogenous\n",
        " 2. used for fast numerical computations and lists are slower for numerical computations.\n",
        "\n",
        "\n",
        " Q6:\n",
        " Ans:\n",
        " NumPy arrays are more significant then python lists for when dealing with large scale numerical opperations.\n",
        "\n",
        " Q7:\n",
        " Ans:\n",
        "1. vstack()\n",
        "    stacks arrays in row wise sequence.\n",
        "2. hstack()\n",
        "    Stacks arrays in colimn wise sequence\n",
        "\n",
        "\n",
        " Q8:\n",
        " Ans:\n",
        " flipr()\n",
        "  filps the array horizontally\n",
        "\n",
        " flipud()\n",
        "  flips the array verically\n",
        "\n",
        "\n",
        "  Q9:\n",
        "  Ans:\n",
        "  array_split()\n",
        "   1. splits the array into multiple subarrays .\n",
        "   2. Handles uneven splits gracefully.\n",
        "\n",
        "   for uneven splits the extra elemets are distributed to the initial sub array\n",
        "\n",
        "\n",
        "  Q10:\n",
        "  Ans:\n",
        "  Vectorizations:\n",
        "   Vectorization is the process of performing operations on entire arrays without explicit loops.\n",
        "\n",
        "  Broadcasting:\n",
        "   Broadcasting is NumPy's mechanism for performing operations on arrays of different shapes.\n",
        "\n",
        "\n"
      ],
      "metadata": {
        "id": "0VugVN1J2Jbf"
      }
    },
    {
      "cell_type": "code",
      "source": [
        "# Practical Questions:\n",
        "#1\n",
        "import numpy as np\n",
        "arr = np.random.randint(1, 101, size = (3, 3))\n",
        "arr.T #(to interchange rows and columns)"
      ],
      "metadata": {
        "colab": {
          "base_uri": "https://localhost:8080/"
        },
        "id": "hGF1O6TY5ser",
        "outputId": "dc5a7296-9402-4c69-e163-6b4935834b29"
      },
      "execution_count": null,
      "outputs": [
        {
          "output_type": "execute_result",
          "data": {
            "text/plain": [
              "array([[47, 15, 33],\n",
              "       [37,  8, 34],\n",
              "       [55, 80, 93]])"
            ]
          },
          "metadata": {},
          "execution_count": 31
        }
      ]
    },
    {
      "cell_type": "code",
      "source": [
        "#2:\n",
        "arr = np.arange(10)\n",
        "arr2 = arr.reshape(2,5)\n",
        "arr3 = arr.reshape(5,2)"
      ],
      "metadata": {
        "id": "1DinyQEZ_SjI"
      },
      "execution_count": null,
      "outputs": []
    },
    {
      "cell_type": "code",
      "source": [
        "arr\n"
      ],
      "metadata": {
        "colab": {
          "base_uri": "https://localhost:8080/"
        },
        "id": "eKMdXgam_3rK",
        "outputId": "93e27060-d699-4fb0-d2c1-9c04261fcb4d"
      },
      "execution_count": null,
      "outputs": [
        {
          "output_type": "execute_result",
          "data": {
            "text/plain": [
              "array([0, 1, 2, 3, 4, 5, 6, 7, 8, 9])"
            ]
          },
          "metadata": {},
          "execution_count": 33
        }
      ]
    },
    {
      "cell_type": "code",
      "source": [
        "arr2"
      ],
      "metadata": {
        "colab": {
          "base_uri": "https://localhost:8080/"
        },
        "id": "Lc9VGS4D_51E",
        "outputId": "21967fcd-4542-4063-f084-5542dc3a6d76"
      },
      "execution_count": null,
      "outputs": [
        {
          "output_type": "execute_result",
          "data": {
            "text/plain": [
              "array([[0, 1, 2, 3, 4],\n",
              "       [5, 6, 7, 8, 9]])"
            ]
          },
          "metadata": {},
          "execution_count": 34
        }
      ]
    },
    {
      "cell_type": "code",
      "source": [
        "arr3"
      ],
      "metadata": {
        "colab": {
          "base_uri": "https://localhost:8080/"
        },
        "id": "pqJkMecT__i8",
        "outputId": "762dac9e-4f2c-4593-862a-955ece5f8514"
      },
      "execution_count": null,
      "outputs": [
        {
          "output_type": "execute_result",
          "data": {
            "text/plain": [
              "array([[0, 1],\n",
              "       [2, 3],\n",
              "       [4, 5],\n",
              "       [6, 7],\n",
              "       [8, 9]])"
            ]
          },
          "metadata": {},
          "execution_count": 35
        }
      ]
    },
    {
      "cell_type": "code",
      "source": [
        "#3:\n",
        "arr = np.random.randn(4, 4)\n",
        "arr"
      ],
      "metadata": {
        "colab": {
          "base_uri": "https://localhost:8080/"
        },
        "id": "pPUh0oVzAAAx",
        "outputId": "ee61f358-78de-48fb-cc31-7da90b2adae6"
      },
      "execution_count": null,
      "outputs": [
        {
          "output_type": "execute_result",
          "data": {
            "text/plain": [
              "array([[-1.00410255, -0.65099849, -1.08490053,  1.27093112],\n",
              "       [ 0.0697624 , -1.95206751,  0.35759744,  0.50438424],\n",
              "       [ 1.18915887,  2.01218087, -0.93024719,  1.32511478],\n",
              "       [ 0.19810577,  0.50216089, -2.09687739,  0.61180862]])"
            ]
          },
          "metadata": {},
          "execution_count": 36
        }
      ]
    },
    {
      "cell_type": "code",
      "source": [
        "#4:\n",
        "arr = np.arange(10, 61, 5)\n",
        "arr"
      ],
      "metadata": {
        "colab": {
          "base_uri": "https://localhost:8080/"
        },
        "id": "Pij0NFJuAQz1",
        "outputId": "5c65a809-921f-44bd-9ce0-c9dd4722ab1c"
      },
      "execution_count": null,
      "outputs": [
        {
          "output_type": "execute_result",
          "data": {
            "text/plain": [
              "array([10, 15, 20, 25, 30, 35, 40, 45, 50, 55, 60])"
            ]
          },
          "metadata": {},
          "execution_count": 37
        }
      ]
    },
    {
      "cell_type": "code",
      "source": [
        "arr = np.array(['python', 'numpy', 'pandas'])\n",
        "arr1 = np.char.upper(arr)"
      ],
      "metadata": {
        "id": "zj_ZaHRuAw6g"
      },
      "execution_count": null,
      "outputs": []
    },
    {
      "cell_type": "code",
      "source": [
        "arr1"
      ],
      "metadata": {
        "colab": {
          "base_uri": "https://localhost:8080/"
        },
        "id": "slj2LfMRBoRh",
        "outputId": "ba41fafc-16ee-4799-cca5-884a66d1fd9f"
      },
      "execution_count": null,
      "outputs": [
        {
          "output_type": "execute_result",
          "data": {
            "text/plain": [
              "array(['PYTHON', 'NUMPY', 'PANDAS'], dtype='<U6')"
            ]
          },
          "metadata": {},
          "execution_count": 39
        }
      ]
    },
    {
      "cell_type": "code",
      "source": [
        "arr2 = np.char.lower(arr)"
      ],
      "metadata": {
        "id": "ulazcpXHDXv4"
      },
      "execution_count": null,
      "outputs": []
    },
    {
      "cell_type": "code",
      "source": [
        "arr2"
      ],
      "metadata": {
        "colab": {
          "base_uri": "https://localhost:8080/"
        },
        "id": "OAJh6TbfDcdS",
        "outputId": "96caaa7f-0e41-4654-af29-444766e719ec"
      },
      "execution_count": null,
      "outputs": [
        {
          "output_type": "execute_result",
          "data": {
            "text/plain": [
              "array(['python', 'numpy', 'pandas'], dtype='<U6')"
            ]
          },
          "metadata": {},
          "execution_count": 41
        }
      ]
    },
    {
      "cell_type": "code",
      "source": [
        "arr3 = np.char.title(arr)"
      ],
      "metadata": {
        "id": "vfDbHfnNDfNf"
      },
      "execution_count": null,
      "outputs": []
    },
    {
      "cell_type": "code",
      "source": [
        "arr3"
      ],
      "metadata": {
        "colab": {
          "base_uri": "https://localhost:8080/"
        },
        "id": "DaW9uKHVDkUP",
        "outputId": "91d01980-576c-4bdf-8ea5-02373c090cc6"
      },
      "execution_count": null,
      "outputs": [
        {
          "output_type": "execute_result",
          "data": {
            "text/plain": [
              "array(['Python', 'Numpy', 'Pandas'], dtype='<U6')"
            ]
          },
          "metadata": {},
          "execution_count": 43
        }
      ]
    },
    {
      "cell_type": "code",
      "source": [
        "#6:\n",
        "arr = np.array(['hello', 'my', 'name', 'is', 'navdeep'])\n",
        "arr1 = np.char.join('', arr)"
      ],
      "metadata": {
        "id": "uQ8sCQTjDoZ6"
      },
      "execution_count": null,
      "outputs": []
    },
    {
      "cell_type": "code",
      "source": [
        "arr1"
      ],
      "metadata": {
        "colab": {
          "base_uri": "https://localhost:8080/"
        },
        "id": "V-7fINVqELXM",
        "outputId": "0560413c-aba3-4e69-e986-1f62c9f298ce"
      },
      "execution_count": null,
      "outputs": [
        {
          "output_type": "execute_result",
          "data": {
            "text/plain": [
              "array(['hello', 'my', 'name', 'is', 'navdeep'], dtype='<U7')"
            ]
          },
          "metadata": {},
          "execution_count": 45
        }
      ]
    },
    {
      "cell_type": "code",
      "source": [
        "arr1 = np.random.randint(1, 5, size = (2, 3))\n",
        "arr2 = np.random.randint(1, 5, size = (2, 3))"
      ],
      "metadata": {
        "id": "2oSo6mPfEPUz"
      },
      "execution_count": null,
      "outputs": []
    },
    {
      "cell_type": "markdown",
      "source": [],
      "metadata": {
        "id": "CMhE3lDmEjVc"
      }
    },
    {
      "cell_type": "code",
      "source": [
        "arr1"
      ],
      "metadata": {
        "colab": {
          "base_uri": "https://localhost:8080/"
        },
        "id": "3lLqn7NRF6rS",
        "outputId": "9d5ebd2d-f455-4bb0-f64a-53d0dbe81085"
      },
      "execution_count": null,
      "outputs": [
        {
          "output_type": "execute_result",
          "data": {
            "text/plain": [
              "array([[1, 2, 4],\n",
              "       [1, 3, 2]])"
            ]
          },
          "metadata": {},
          "execution_count": 47
        }
      ]
    },
    {
      "cell_type": "code",
      "source": [
        "arr2"
      ],
      "metadata": {
        "colab": {
          "base_uri": "https://localhost:8080/"
        },
        "id": "QjM3SlCwF7Ow",
        "outputId": "7e236f52-dce4-4415-9cf9-7fa5c106ccae"
      },
      "execution_count": null,
      "outputs": [
        {
          "output_type": "execute_result",
          "data": {
            "text/plain": [
              "array([[1, 4, 3],\n",
              "       [4, 1, 4]])"
            ]
          },
          "metadata": {},
          "execution_count": 48
        }
      ]
    },
    {
      "cell_type": "code",
      "source": [
        "#addition:\n",
        "arrA = arr1 + arr2\n",
        "arrA"
      ],
      "metadata": {
        "colab": {
          "base_uri": "https://localhost:8080/"
        },
        "id": "5AFZwrqtF7ow",
        "outputId": "06a8043d-75ec-4ed3-9e2a-ebd5ae8d6f2c"
      },
      "execution_count": null,
      "outputs": [
        {
          "output_type": "execute_result",
          "data": {
            "text/plain": [
              "array([[2, 6, 7],\n",
              "       [5, 4, 6]])"
            ]
          },
          "metadata": {},
          "execution_count": 49
        }
      ]
    },
    {
      "cell_type": "code",
      "source": [
        "arrS = arr1 - arr2\n",
        "arrS"
      ],
      "metadata": {
        "colab": {
          "base_uri": "https://localhost:8080/"
        },
        "id": "VB9viv9VGG13",
        "outputId": "46fec140-d135-4fa1-957d-4a75ae9ef7c4"
      },
      "execution_count": null,
      "outputs": [
        {
          "output_type": "execute_result",
          "data": {
            "text/plain": [
              "array([[ 0, -2,  1],\n",
              "       [-3,  2, -2]])"
            ]
          },
          "metadata": {},
          "execution_count": 50
        }
      ]
    },
    {
      "cell_type": "code",
      "source": [
        "arrM = arr1 * arr2\n",
        "arrM"
      ],
      "metadata": {
        "colab": {
          "base_uri": "https://localhost:8080/"
        },
        "id": "qpsPPY7qGKoX",
        "outputId": "edf263ee-7b82-4cf2-ca9e-dc097193b5ad"
      },
      "execution_count": null,
      "outputs": [
        {
          "output_type": "execute_result",
          "data": {
            "text/plain": [
              "array([[ 1,  8, 12],\n",
              "       [ 4,  3,  8]])"
            ]
          },
          "metadata": {},
          "execution_count": 51
        }
      ]
    },
    {
      "cell_type": "code",
      "source": [
        "arrD = arr1 / arr2\n",
        "arrD"
      ],
      "metadata": {
        "colab": {
          "base_uri": "https://localhost:8080/"
        },
        "id": "LIYTetyuGSKi",
        "outputId": "f0dc50bb-1571-44a4-e328-f79b38b7fd0d"
      },
      "execution_count": null,
      "outputs": [
        {
          "output_type": "execute_result",
          "data": {
            "text/plain": [
              "array([[1.        , 0.5       , 1.33333333],\n",
              "       [0.25      , 3.        , 0.5       ]])"
            ]
          },
          "metadata": {},
          "execution_count": 52
        }
      ]
    },
    {
      "cell_type": "code",
      "source": [
        "#8:\n",
        "arr1 = np.eye(5)\n",
        "arr1"
      ],
      "metadata": {
        "colab": {
          "base_uri": "https://localhost:8080/"
        },
        "id": "1QLuBMe4GVWm",
        "outputId": "b55f3283-58af-4403-ced9-638954380e5c"
      },
      "execution_count": null,
      "outputs": [
        {
          "output_type": "execute_result",
          "data": {
            "text/plain": [
              "array([[1., 0., 0., 0., 0.],\n",
              "       [0., 1., 0., 0., 0.],\n",
              "       [0., 0., 1., 0., 0.],\n",
              "       [0., 0., 0., 1., 0.],\n",
              "       [0., 0., 0., 0., 1.]])"
            ]
          },
          "metadata": {},
          "execution_count": 53
        }
      ]
    },
    {
      "cell_type": "code",
      "source": [
        "arrD = np.diag(arr1)\n",
        "arrD"
      ],
      "metadata": {
        "colab": {
          "base_uri": "https://localhost:8080/"
        },
        "id": "sjX4B7AmGlYC",
        "outputId": "cf64251a-faf8-47c0-d40d-ade7bad9600c"
      },
      "execution_count": null,
      "outputs": [
        {
          "output_type": "execute_result",
          "data": {
            "text/plain": [
              "array([1., 1., 1., 1., 1.])"
            ]
          },
          "metadata": {},
          "execution_count": 54
        }
      ]
    },
    {
      "cell_type": "code",
      "source": [
        "#9:\n",
        "arr1 = np.random.randint(0, 1000, 100)\n",
        "arr1"
      ],
      "metadata": {
        "colab": {
          "base_uri": "https://localhost:8080/"
        },
        "id": "cerPA14MGr4T",
        "outputId": "fd7ee2e1-da71-4347-ffe1-90d072932795"
      },
      "execution_count": null,
      "outputs": [
        {
          "output_type": "execute_result",
          "data": {
            "text/plain": [
              "array([874, 369, 843, 207, 238, 828, 110, 795, 804, 754, 691, 677, 552,\n",
              "       888, 729, 346, 641, 637, 394, 915, 131, 140, 916, 268, 391, 722,\n",
              "       824, 103, 613, 227, 804, 987, 898, 313, 332, 174, 504,  71, 813,\n",
              "       132, 222, 369, 755, 115, 194, 765, 171, 155, 837, 909,   5, 579,\n",
              "       600, 613, 896, 546, 357,  56, 383,  75, 174, 681, 110, 944, 103,\n",
              "       808, 229, 988, 983,  83, 406,  71, 189, 464, 591, 568, 222, 939,\n",
              "       943, 418, 187, 916,  78, 480, 462, 607, 300, 161, 469, 428, 435,\n",
              "       682, 127, 210, 912,  96, 171, 864, 419, 418])"
            ]
          },
          "metadata": {},
          "execution_count": 55
        }
      ]
    },
    {
      "cell_type": "code",
      "source": [
        "def is_prime(num):\n",
        "  if num <= 3:\n",
        "    return True\n",
        "  if num % 2 == 0 or num % 3 == 0:\n",
        "    return False\n",
        "  i = 5\n",
        "  while i * i <= num:\n",
        "    if num%i == 0 or num % (i +2) == 0:\n",
        "      return False\n",
        "    i += 6\n",
        "    return True"
      ],
      "metadata": {
        "id": "84ExugFwHB6d"
      },
      "execution_count": null,
      "outputs": []
    },
    {
      "cell_type": "code",
      "source": [
        "prime_numbers = arr1[np.vectorize(is_prime)(arr1)]\n",
        "prime_numbers"
      ],
      "metadata": {
        "colab": {
          "base_uri": "https://localhost:8080/"
        },
        "id": "z2B1g0KrIlgL",
        "outputId": "b1e6b19c-f96e-4cb5-8185-bc30ee277fbe"
      },
      "execution_count": null,
      "outputs": [
        {
          "output_type": "execute_result",
          "data": {
            "text/plain": [
              "array([691, 677, 641, 131, 391, 103, 613, 227, 313,  71, 613, 383, 103,\n",
              "       229, 983,  83,  71, 943, 187, 607, 127, 419])"
            ]
          },
          "metadata": {},
          "execution_count": 57
        }
      ]
    },
    {
      "cell_type": "code",
      "source": [
        "#10:\n",
        "daily_temperatures = np.random.randint(20, 40, size=28)\n",
        "\n",
        "weekly_temperatures = daily_temperatures.reshape(4, 7)\n",
        "\n",
        "weekly_averages = np.mean(weekly_temperatures, axis=1)\n",
        "\n",
        "print(\"Daily temperatures:\\n\", daily_temperatures)\n",
        "print(\"Weekly temperatures:\\n\", weekly_temperatures)\n",
        "print(\"Weekly averages:\", weekly_averages)\n"
      ],
      "metadata": {
        "colab": {
          "base_uri": "https://localhost:8080/"
        },
        "id": "Mu7NKy05I5Ak",
        "outputId": "8edf6905-22a5-44f4-bcf7-1e6f9790cd79"
      },
      "execution_count": null,
      "outputs": [
        {
          "output_type": "stream",
          "name": "stdout",
          "text": [
            "Daily temperatures:\n",
            " [34 37 23 31 26 30 22 31 34 26 36 28 27 39 21 22 33 38 22 23 27 35 38 21\n",
            " 32 22 22 36]\n",
            "Weekly temperatures:\n",
            " [[34 37 23 31 26 30 22]\n",
            " [31 34 26 36 28 27 39]\n",
            " [21 22 33 38 22 23 27]\n",
            " [35 38 21 32 22 22 36]]\n",
            "Weekly averages: [29.         31.57142857 26.57142857 29.42857143]\n"
          ]
        }
      ]
    },
    {
      "cell_type": "code",
      "source": [],
      "metadata": {
        "id": "5F7OnWP2JOQt"
      },
      "execution_count": null,
      "outputs": []
    },
    {
      "cell_type": "code",
      "source": [],
      "metadata": {
        "id": "CFTDqK12UcO4"
      },
      "execution_count": null,
      "outputs": []
    }
  ]
}