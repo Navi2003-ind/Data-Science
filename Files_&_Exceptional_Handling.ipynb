{
  "nbformat": 4,
  "nbformat_minor": 0,
  "metadata": {
    "colab": {
      "provenance": [],
      "authorship_tag": "ABX9TyNGi00vjjloWGMnqSoViUuY",
      "include_colab_link": true
    },
    "kernelspec": {
      "name": "python3",
      "display_name": "Python 3"
    },
    "language_info": {
      "name": "python"
    }
  },
  "cells": [
    {
      "cell_type": "markdown",
      "metadata": {
        "id": "view-in-github",
        "colab_type": "text"
      },
      "source": [
        "<a href=\"https://colab.research.google.com/github/Navi2003-ind/Data-Science/blob/main/Files_%26_Exceptional_Handling.ipynb\" target=\"_parent\"><img src=\"https://colab.research.google.com/assets/colab-badge.svg\" alt=\"Open In Colab\"/></a>"
      ]
    },
    {
      "cell_type": "code",
      "execution_count": null,
      "metadata": {
        "id": "BHdiyoCTEEtb"
      },
      "outputs": [],
      "source": [
        "*# Answer 1*\n",
        "**# Multithreading is preferable when:**\n",
        "\n",
        "# - I/O bound tasks:  Tasks that spend a lot of time waiting for external resources (like network requests or disk operations).\n",
        "#   Threads can overlap these waits, improving overall performance.\n",
        "# - Shared memory:  When tasks need to access and modify shared data, threading provides easier mechanisms for data sharing.\n",
        "# - Overhead: Threading has less overhead than multiprocessing, making it suitable for tasks with frequent context switching.\n",
        "\n",
        "**# Multiprocessing is a better choice when:**\n",
        "\n",
        "# - CPU bound tasks:  Tasks that are computationally intensive and utilize the CPU heavily.\n",
        "#   Multiple processes can utilize multiple CPU cores for parallel execution.\n",
        "# - Avoiding Global Interpreter Lock (GIL):  Python's GIL limits the execution of multiple threads in a single process.\n",
        "#   Multiprocessing bypasses this limitation, allowing true parallel execution.\n",
        "# - Isolation: Processes have their own memory space, providing better isolation and reducing the risk of data corruption.\n"
      ]
    },
    {
      "cell_type": "code",
      "source": [
        "# Answer2:\n",
        "from multiprocessing import Pool\n",
        "\n",
        "def square(n):\n",
        "  return n * n\n",
        "\n",
        "if __name__ == '__main__':\n",
        "  with Pool(processes=4) as pool:\n",
        "    numbers = [1, 2, 3, 4, 5]\n",
        "    results = pool.map(square, numbers)\n",
        "    print(results)\n"
      ],
      "metadata": {
        "colab": {
          "base_uri": "https://localhost:8080/"
        },
        "id": "azdqL8wwEoaA",
        "outputId": "776f958f-4a7e-47fa-cf9a-519561638a24"
      },
      "execution_count": 3,
      "outputs": [
        {
          "output_type": "stream",
          "name": "stdout",
          "text": [
            "[1, 4, 9, 16, 25]\n"
          ]
        }
      ]
    },
    {
      "cell_type": "code",
      "source": [
        "#Answer3:\n",
        "# Multiprocessing in Python allows you to create multiple processes that run concurrently.\n",
        "# Each process has its own memory space, which helps avoid the Global Interpreter Lock (GIL) that limits true parallelism in multithreading.\n",
        "\n",
        "# Why use multiprocessing?\n",
        "# - CPU-bound tasks: For tasks that heavily utilize the CPU, multiprocessing can leverage multiple cores for significant performance gains.\n",
        "# - Parallel execution:  It enables true parallel execution of tasks, unlike multithreading which is limited by the GIL.\n",
        "# - Isolation: Processes are isolated, reducing the risk of data corruption and simplifying debugging.\n"
      ],
      "metadata": {
        "id": "NtgWvU27E3Gc"
      },
      "execution_count": 4,
      "outputs": []
    },
    {
      "cell_type": "code",
      "source": [
        "# Answer 4\n",
        "import threading\n",
        "import time\n",
        "\n",
        "class MyList:\n",
        "    def __init__(self):\n",
        "        self.data = []\n",
        "        self.lock = threading.Lock()\n",
        "\n",
        "    def add(self, number):\n",
        "        with self.lock:\n",
        "            self.data.append(number)\n",
        "            print(f\"Added {number} to the list. Current list: {self.data}\")\n",
        "\n",
        "    def remove(self):\n",
        "        with self.lock:\n",
        "            if self.data:\n",
        "                number = self.data.pop()\n",
        "                print(f\"Removed {number} from the list. Current list: {self.data}\")\n",
        "            else:\n",
        "                print(\"List is empty.\")\n",
        "\n",
        "def add_numbers(my_list):\n",
        "    for i in range(1, 6):\n",
        "        my_list.add(i)\n",
        "        time.sleep(0.5)\n",
        "\n",
        "def remove_numbers(my_list):\n",
        "    for _ in range(5):\n",
        "        my_list.remove()\n",
        "        time.sleep(0.5)\n",
        "\n",
        "if __name__ == \"__main__\":\n",
        "    my_list = MyList()\n",
        "\n",
        "    thread1 = threading.Thread(target=add_numbers, args=(my_list,))\n",
        "    thread2 = threading.Thread(target=remove_numbers, args=(my_list,))\n",
        "\n",
        "    thread1.start()\n",
        "    thread2.start()\n",
        "\n",
        "    thread1.join()\n",
        "    thread2.join()\n"
      ],
      "metadata": {
        "colab": {
          "base_uri": "https://localhost:8080/"
        },
        "id": "nFjoLe_KFK4a",
        "outputId": "b475491f-aaef-4ba3-8456-9938507be3cf"
      },
      "execution_count": 6,
      "outputs": [
        {
          "output_type": "stream",
          "name": "stdout",
          "text": [
            "Added 1 to the list. Current list: [1]\n",
            "Removed 1 from the list. Current list: []\n",
            "Added 2 to the list. Current list: [2]\n",
            "Removed 2 from the list. Current list: []\n",
            "Added 3 to the list. Current list: [3]\n",
            "Removed 3 from the list. Current list: []\n",
            "Added 4 to the list. Current list: [4]\n",
            "Removed 4 from the list. Current list: []\n",
            "Added 5 to the list. Current list: [5]\n",
            "Removed 5 from the list. Current list: []\n"
          ]
        }
      ]
    },
    {
      "cell_type": "code",
      "source": [
        "# Answer 5\n",
        "from multiprocessing import Queue, Pipe\n",
        "import threading\n",
        "\n",
        "\n",
        "\n",
        "def worker(q):\n",
        "    while True:\n",
        "        item = q.get()\n",
        "        if item is None:\n",
        "            break\n",
        "        print(f\"Worker received: {item}\")\n",
        "        # Process the item\n",
        "        q.task_done()\n",
        "\n",
        "if __name__ == \"__main__\":\n",
        "    q = Queue()\n",
        "    p = threading.Thread(target=worker, args=(q,))\n",
        "    p.start()\n",
        "\n",
        "    for i in range(5):\n",
        "        q.put(i)\n",
        "\n",
        "    q.put(None)\n",
        "    p.join()\n",
        "\n",
        "\n",
        "# 2. Pipes:\n",
        "\n",
        "def sender(conn):\n",
        "    conn.send(\"Hello from sender!\")\n",
        "    conn.close()\n",
        "\n",
        "def receiver(conn):\n",
        "    msg = conn.recv()\n",
        "    print(f\"Receiver got: {msg}\")\n",
        "    conn.close()\n",
        "\n",
        "if __name__ == \"__main__\":\n",
        "    parent_conn, child_conn = Pipe()\n",
        "    p1 = threading.Thread(target=sender, args=(parent_conn,))\n",
        "    p2 = threading.Thread(target=receiver, args=(child_conn,))\n",
        "    p1.start()\n",
        "    p2.start()\n",
        "    p1.join()\n",
        "    p2.join()\n",
        "\n",
        "\n",
        "# 3. Shared Memory (multiprocessing.Array, multiprocessing.Value):\n",
        "#    - Allows processes to directly access shared memory.\n",
        "#    - Efficient for data that needs to be frequently updated.\n",
        "\n",
        "# 4. Locks and Semaphores:\n",
        "#    - Essential for synchronizing access to shared resources.\n",
        "#    - Prevent race conditions and data corruption.\n",
        "\n",
        "# Example with a lock:\n",
        "class Counter:\n",
        "    def __init__(self):\n",
        "        self.value = 0\n",
        "        self.lock = threading.Lock()\n",
        "\n",
        "    def increment(self):\n",
        "        with self.lock:\n",
        "            self.value += 1\n",
        "\n",
        "# 5. Condition Variables:\n",
        "#    - Allow threads to wait for specific conditions to be met.\n",
        "#    - Useful for coordinating threads that depend on shared data.\n"
      ],
      "metadata": {
        "colab": {
          "base_uri": "https://localhost:8080/"
        },
        "id": "ISS_n9o0FXU8",
        "outputId": "359f2b73-ba10-491a-a3f7-4661089a9c37"
      },
      "execution_count": 7,
      "outputs": [
        {
          "output_type": "stream",
          "name": "stderr",
          "text": [
            "Exception in thread Thread-20 (worker):\n",
            "Traceback (most recent call last):\n",
            "  File \"/usr/lib/python3.10/threading.py\", line 1016, in _bootstrap_inner\n",
            "    self.run()\n",
            "  File \"/usr/lib/python3.10/threading.py\", line 953, in run\n",
            "    self._target(*self._args, **self._kwargs)\n",
            "  File \"<ipython-input-7-f8c990a29cdb>\", line 14, in worker\n",
            "AttributeError: 'Queue' object has no attribute 'task_done'\n"
          ]
        },
        {
          "output_type": "stream",
          "name": "stdout",
          "text": [
            "Worker received: 0\n",
            "Receiver got: Hello from sender!\n"
          ]
        }
      ]
    },
    {
      "cell_type": "code",
      "source": [
        "\n",
        "# Answer 6:\n",
        "\n",
        "# Handling exceptions in concurrent programs is crucial for several reasons:\n",
        "\n",
        "# 1. Preventing Program Crashes:\n",
        "#    - When an exception occurs in a thread or process, it can cause the entire program to crash if not handled properly.\n",
        "#    - Exception handling ensures that the program continues to run even if one part encounters an error.\n",
        "\n",
        "# 2. Maintaining Data Integrity:\n",
        "#    -  Exceptions can disrupt shared resources and lead to data corruption.\n",
        "#    - Proper exception handling helps maintain data consistency and prevent unexpected behavior.\n",
        "\n",
        "# 3. Graceful Degradation:\n",
        "#    -  By handling exceptions, you can gracefully degrade the program's performance instead of abruptly halting it.\n",
        "#    - This allows the program to continue operating even if some parts fail.\n",
        "\n",
        "# 4. Debugging and Monitoring:\n",
        "#    -  Exception handling provides a mechanism to log errors, track down the source of problems, and monitor the program's health.\n",
        "\n",
        "# Techniques for Handling Exceptions in Concurrent Programs:\n",
        "\n",
        "# 1. try-except Blocks:\n",
        "#    -  The most basic approach is to use try-except blocks to catch exceptions within threads or processes.\n",
        "#    - This allows you to handle errors locally and prevent them from propagating to the main program.\n",
        "\n",
        "# 2. Exception Handling in Threading:\n",
        "#    -  When using threads, you can use the `threading.excepthook` to handle uncaught exceptions in threads.\n",
        "#    - This helps you monitor and log errors that occur within threads.\n",
        "\n",
        "# 3. Exception Handling in Multiprocessing:\n",
        "#    -  In multiprocessing, you can use `multiprocessing.Process.join()` to handle exceptions that occur in child processes.\n",
        "#    - You can also use queues to communicate exceptions between processes.\n",
        "\n",
        "# 4. Custom Exception Classes:\n",
        "#    -  Define custom exception classes to represent specific error conditions in your concurrent program.\n",
        "#    - This helps you categorize and handle different types of errors more effectively.\n",
        "\n",
        "# 5. Logging and Monitoring:\n",
        "#    -  Use logging mechanisms to record exceptions and other events in your concurrent program.\n",
        "#    - This helps you track down the source of errors and monitor the program's health.\n"
      ],
      "metadata": {
        "id": "LmbguXB-GDL0"
      },
      "execution_count": 8,
      "outputs": []
    },
    {
      "cell_type": "code",
      "source": [
        "# Answer 7:\n",
        "import concurrent.futures\n",
        "\n",
        "def factorial(n):\n",
        "  result = 1\n",
        "  for i in range(1, n + 1):\n",
        "    result *= i\n",
        "  return result\n",
        "\n",
        "if __name__ == \"__main__\":\n",
        "  with concurrent.futures.ThreadPoolExecutor() as executor:\n",
        "    numbers = range(1, 11)\n",
        "    results = list(executor.map(factorial, numbers))\n",
        "  print(results)\n"
      ],
      "metadata": {
        "colab": {
          "base_uri": "https://localhost:8080/"
        },
        "id": "OxPkqpXJGN-g",
        "outputId": "34095d35-7f16-449c-c389-7786b6178728"
      },
      "execution_count": 10,
      "outputs": [
        {
          "output_type": "stream",
          "name": "stdout",
          "text": [
            "[1, 2, 6, 24, 120, 720, 5040, 40320, 362880, 3628800]\n"
          ]
        }
      ]
    },
    {
      "cell_type": "code",
      "source": [
        "# Answer 8:\n",
        "from multiprocessing import Pool\n",
        "import time\n",
        "\n",
        "def square(n):\n",
        "  return n * n\n",
        "\n",
        "if __name__ == '__main__':\n",
        "  for num_processes in [2, 4, 8]:\n",
        "    start_time = time.time()\n",
        "    with Pool(processes=num_processes) as pool:\n",
        "      numbers = range(1, 11)\n",
        "      results = pool.map(square, numbers)\n",
        "    end_time = time.time()\n",
        "    print(f\"With {num_processes} processes, time taken: {end_time - start_time} seconds\")\n",
        "    print(results)\n"
      ],
      "metadata": {
        "colab": {
          "base_uri": "https://localhost:8080/"
        },
        "id": "ZWgdH0spGTEp",
        "outputId": "92fecef5-3aa3-469f-a425-3b8a753abb5d"
      },
      "execution_count": 11,
      "outputs": [
        {
          "output_type": "stream",
          "name": "stdout",
          "text": [
            "With 2 processes, time taken: 0.026776790618896484 seconds\n",
            "[1, 4, 9, 16, 25, 36, 49, 64, 81, 100]\n",
            "With 4 processes, time taken: 0.05498504638671875 seconds\n",
            "[1, 4, 9, 16, 25, 36, 49, 64, 81, 100]\n",
            "With 8 processes, time taken: 0.08730602264404297 seconds\n",
            "[1, 4, 9, 16, 25, 36, 49, 64, 81, 100]\n"
          ]
        }
      ]
    },
    {
      "cell_type": "code",
      "source": [],
      "metadata": {
        "id": "-wdymTC7GkkP"
      },
      "execution_count": null,
      "outputs": []
    }
  ]
}